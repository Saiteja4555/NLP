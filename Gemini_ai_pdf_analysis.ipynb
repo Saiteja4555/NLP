{
  "nbformat": 4,
  "nbformat_minor": 0,
  "metadata": {
    "colab": {
      "provenance": [],
      "authorship_tag": "ABX9TyOHAHVOrfEpdDSVEnNIqrCy",
      "include_colab_link": true
    },
    "kernelspec": {
      "name": "python3",
      "display_name": "Python 3"
    },
    "language_info": {
      "name": "python"
    }
  },
  "cells": [
    {
      "cell_type": "markdown",
      "metadata": {
        "id": "view-in-github",
        "colab_type": "text"
      },
      "source": [
        "<a href=\"https://colab.research.google.com/github/Saiteja4555/NLP/blob/main/Gemini_ai_pdf_analysis.ipynb\" target=\"_parent\"><img src=\"https://colab.research.google.com/assets/colab-badge.svg\" alt=\"Open In Colab\"/></a>"
      ]
    },
    {
      "cell_type": "code",
      "execution_count": 2,
      "metadata": {
        "id": "N7yJrW8SgVlG"
      },
      "outputs": [],
      "source": [
        "# Configure Gemini API\n",
        "\n",
        "import google.generativeai as genai\n",
        "from google.colab import userdata\n",
        "GOOGLE_API_KEY=userdata.get('GOOGLE_API_KEY')\n",
        "genai.configure(api_key=GOOGLE_API_KEY)"
      ]
    },
    {
      "cell_type": "code",
      "source": [
        "pip install PyPDF2\n"
      ],
      "metadata": {
        "colab": {
          "base_uri": "https://localhost:8080/"
        },
        "id": "IBRnK1Mxgxf5",
        "outputId": "224d8794-434a-4a6c-a5ab-f2784823b066"
      },
      "execution_count": 1,
      "outputs": [
        {
          "output_type": "stream",
          "name": "stdout",
          "text": [
            "Collecting PyPDF2\n",
            "  Downloading pypdf2-3.0.1-py3-none-any.whl.metadata (6.8 kB)\n",
            "Downloading pypdf2-3.0.1-py3-none-any.whl (232 kB)\n",
            "\u001b[2K   \u001b[90m━━━━━━━━━━━━━━━━━━━━━━━━━━━━━━━━━━━━━━━━\u001b[0m \u001b[32m232.6/232.6 kB\u001b[0m \u001b[31m3.2 MB/s\u001b[0m eta \u001b[36m0:00:00\u001b[0m\n",
            "\u001b[?25hInstalling collected packages: PyPDF2\n",
            "Successfully installed PyPDF2-3.0.1\n"
          ]
        }
      ]
    },
    {
      "cell_type": "code",
      "source": [
        "import PyPDF2\n",
        "def extract_text_from_pdf(pdf_path):\n",
        "    text = \"\"\n",
        "    with open(pdf_path, 'rb') as file:\n",
        "        reader = PyPDF2.PdfReader(file)\n",
        "        for page in reader.pages:\n",
        "          text += page.extract_text()\n",
        "    return text"
      ],
      "metadata": {
        "id": "Cr_GAJ-Eg1XJ"
      },
      "execution_count": 3,
      "outputs": []
    },
    {
      "cell_type": "code",
      "source": [
        "def extract_health_insights(text):\n",
        "  model = genai.GenerativeModel(\"gemini-1.5-flash\")\n",
        "  prompt = f\"Extract key insights:\\n\\n{text}\"\n",
        "  response = model.generate_content(prompt)\n",
        "  return response.text\n",
        "pdf_file = \"health_report.pdf\"\n",
        "extracted_text = extract_text_from_pdf(pdf_file)\n",
        "insights = extract_health_insights(extracted_text)\n",
        "print(insights)"
      ],
      "metadata": {
        "colab": {
          "base_uri": "https://localhost:8080/",
          "height": 540
        },
        "id": "uUSuI45Jh3S6",
        "outputId": "1e36f004-9ec6-44e2-c3e9-532e87b40d6d"
      },
      "execution_count": 6,
      "outputs": [
        {
          "output_type": "stream",
          "name": "stdout",
          "text": [
            "**Patient:** Mr. Kishan Goud (MR2100003157, IP2100041193), 56-year-old male.\n",
            "\n",
            "**Date of Tests:** February 1st, 2021.\n",
            "\n",
            "**Key Findings:**\n",
            "\n",
            "* **Widal Test:** Suggestive of past exposure to *Salmonella Typhi* (O: 1:160, H: 1:80).  *S. Paratyphi* AH and BH titers were within the reference range.  (Note:  The interpretation of Widal test results needs clinical context; a high titer doesn't automatically confirm active infection.)\n",
            "\n",
            "* **Dengue Serology:** Negative for NS1 antigen, IgG, and IgM antibodies.\n",
            "\n",
            "* **ESR:** Elevated (26 mm/hr in the first hour, 52 mm/hr in the second hour), suggesting inflammation.\n",
            "\n",
            "* **Rapid Malaria Test:** Negative for *Plasmodium falciparum* and *Plasmodium vivax*.\n",
            "\n",
            "* **Complete Blood Picture (CBC):**  Mostly within normal limits.  Hemoglobin (Hb) 13.6 g/dL, RBC 4.3 mill/cumm, WBC 7200 cells/cumm, Platelets 2.0 lakhs/cumm.  Differential count also within normal ranges.\n",
            "\n",
            "* **HbA1c:** 5.4%, indicating good blood glucose control within the normal non-diabetic range.\n",
            "\n",
            "* **Serum Creatinine:** 0.8 mg/dL (within normal range).\n",
            "\n",
            "* **Random Blood Glucose:** Not explicitly stated but implied to be within the normal range given that HbA1c is normal (60-170 mg/dl ref range).\n",
            "\n",
            "* **Liver Function Test (LFT):** All values within normal ranges, including bilirubin (total, direct, and indirect), alkaline phosphatase, SGOT, SGPT, total protein, albumin, and globulin.\n",
            "\n",
            "* **Serum Electrolytes:** Sodium slightly low (122 mmol/l; reference range 135-146 mmol/l), potassium and chloride within normal ranges.\n",
            "\n",
            "\n",
            "**Overall:** The results show mostly normal findings, except for the elevated ESR and slightly low sodium.  The Widal test suggests past exposure to *Salmonella Typhi*, but further clinical evaluation is needed to determine its significance.  The patient does not show evidence of acute dengue or malaria infection.  The slightly low sodium level may warrant further investigation and context within the clinical picture.\n",
            "\n"
          ]
        }
      ]
    },
    {
      "cell_type": "code",
      "source": [
        "def summarize_health_report(text):\n",
        "  model = genai.GenerativeModel(\"gemini-1.5-flash\")\n",
        "  prompt = f\"Summarize the report:\\n\\n{text}\"\n",
        "  response = model.generate_content(prompt)\n",
        "  return response.text\n",
        "\n",
        "summary = summarize_health_report(extracted_text)\n",
        "print(summary)"
      ],
      "metadata": {
        "colab": {
          "base_uri": "https://localhost:8080/",
          "height": 453
        },
        "id": "fxWhfDqgkVCp",
        "outputId": "b10266f6-ca67-43e5-f426-3c7b249ac434"
      },
      "execution_count": 8,
      "outputs": [
        {
          "output_type": "stream",
          "name": "stdout",
          "text": [
            "This is a lab report for Mr. Kishan Goud (MRN: MR2100003157) ordered by Dr. Krishna Prasad on 01/02/2021.  The report includes the following results:\n",
            "\n",
            "**Infectious Disease Tests:**\n",
            "\n",
            "* **Widal Test:** Elevated titers for *Salmonella Typhi* \"O\" (1:160) and \"H\" (1:80), suggesting possible *Salmonella* Typhi infection.  *Salmonella* Paratyphi \"AH\" and \"BH\" were within normal limits.\n",
            "* **Dengue Serology:** Negative for Dengue NS1 antigen, IgG, and IgM antibodies.\n",
            "* **Rapid Malaria Test:** Negative for both *Plasmodium falciparum* and *Plasmodium vivax*.\n",
            "\n",
            "**Hematology:**\n",
            "\n",
            "* **Complete Blood Picture (CBC):**  Hemoglobin, RBC, WBC, and platelet counts were within normal limits.  Differential count showed normal ranges for neutrophils, lymphocytes, eosinophils, monocytes, and basophils.  Peripheral blood smear showed normocytic/normochromic RBCs and WBCs within normal limits.\n",
            "* **Erythrocyte Sedimentation Rate (ESR):** Elevated (26 mm/hr in the first hour, 52 mm/hr in the second hour), indicating possible inflammation.\n",
            "* **HbA1c:** 5.4%, within the normal range for non-diabetics.\n",
            "\n",
            "**Biochemistry:**\n",
            "\n",
            "* **Liver Function Tests (LFTs):** All liver enzymes (bilirubin, alkaline phosphatase, SGOT, SGPT) and total protein/albumin levels were within normal ranges.\n",
            "* **Serum Electrolytes:** Sodium (slightly low at 122 mmol/l), potassium, and chloride levels were mostly within normal ranges.\n",
            "* **Random Blood Glucose:**  Within normal range.\n",
            "* **Serum Creatinine:** Within normal range.\n",
            "\n",
            "\n",
            "**Overall:**  The results show elevated Widal test titers suggesting possible typhoid fever, and an elevated ESR suggesting inflammation.  All other tests, including those for dengue and malaria, were negative.  Further clinical evaluation is needed to confirm the diagnosis.\n",
            "\n"
          ]
        }
      ]
    },
    {
      "cell_type": "code",
      "source": [
        "def detect_abnormorlities(text):\n",
        "  model = genai.GenerativeModel(\"gemini-1.5-flash\")\n",
        "  prompt = f\"Summarize abnormal values:\\n\\n{text}\"\n",
        "  response = model.generate_content(prompt)\n",
        "  return response.text\n",
        "abnormalities = detect_abnormorlities(extracted_text)\n",
        "print(\"Potential Abnormalities:\\n\",abnormalities)"
      ],
      "metadata": {
        "colab": {
          "base_uri": "https://localhost:8080/",
          "height": 315
        },
        "id": "PoCtafI6mK_2",
        "outputId": "17a916ba-d8f2-49c5-a286-c317cf8937b4"
      },
      "execution_count": 9,
      "outputs": [
        {
          "output_type": "stream",
          "name": "stdout",
          "text": [
            "Potential Abnormalities:\n",
            " The lab results for Mr. Kishan Goud show the following abnormal values:\n",
            "\n",
            "* **Widal Test:**  Elevated titers for *Salmonella Typhi* \"O\" (1:160) and \"H\" (1:80).  The reference range is 1:20 for both.  This suggests a possible past or present *Salmonella Typhi* infection.\n",
            "\n",
            "* **ESR:** Elevated at 26 mm/hr in the first hour and 52 mm/hr in the second hour. The reference range for the first hour is 0-8 mm/hr. This indicates inflammation.\n",
            "\n",
            "* **RBC:** Slightly below the lower limit of the reference range (4.3 mill/cumm; reference range 4.5-5.5 mill/cumm).\n",
            "\n",
            "* **Serum Sodium:** Slightly below the lower limit of the reference range (122 mmol/l; reference range 135-146 mmol/l).\n",
            "\n",
            "* **Serum Chloride:** Slightly below the lower limit of the reference range (97 mmol/l; reference range 98-107 mmol/l).\n",
            "\n",
            "\n",
            "All other tests (Dengue serology, Malaria, Hemoglobin, WBC, Platelets, PCV, Differential Count, HbA1c, Creatinine, Blood Glucose, Liver Function Tests (except for slightly low albumin at the lower end of the range), and other electrolytes (potassium)) were within the normal ranges.  The slightly low RBC, Sodium, and Chloride values may be clinically insignificant or require further investigation depending on the patient's clinical presentation.  The elevated Widal test and ESR suggest further investigation may be needed to determine the cause of the inflammation.\n",
            "\n"
          ]
        }
      ]
    },
    {
      "cell_type": "code",
      "source": [
        "def exp_med_terms(text):\n",
        "  model = genai.GenerativeModel(\"gemini-1.5-flash\")\n",
        "  prompt = f\"Explain the medical terms in pdf:\\n\\n{text}\"\n",
        "  response = model.generate_content(prompt)\n",
        "  return response.text\n",
        "explaination = exp_med_terms(extracted_text)\n",
        "print(\"Explaination:\\n\",explaination)"
      ],
      "metadata": {
        "colab": {
          "base_uri": "https://localhost:8080/",
          "height": 1000
        },
        "id": "pSNZjHzcojux",
        "outputId": "0ea79b4b-0d54-4943-921b-d8947d747fbb"
      },
      "execution_count": 10,
      "outputs": [
        {
          "output_type": "stream",
          "name": "stdout",
          "text": [
            "Explaination:\n",
            " This document shows the lab results for Mr. Kishan Goud. Let's break down the medical terms and results:\n",
            "\n",
            "**I. WIDAL TEST (Microbiology and Serology):**  This test detects antibodies against *Salmonella* species, bacteria that cause typhoid and paratyphoid fevers.\n",
            "\n",
            "* **S. Typhi \"O\" 1:160:**  This indicates a 1:160 dilution of the patient's serum still reacted with the \"O\" antigen of *Salmonella Typhi*.  The \"O\" antigen is a somatic antigen (part of the bacterial cell wall).  A higher titer (dilution) generally suggests a greater antibody response, potentially indicating past or current infection.  The reference range is 1:20; therefore, this result is significantly elevated, suggesting a likely past or current *Salmonella Typhi* infection.\n",
            "\n",
            "* **S. Typhi \"H\" 1:80:** This shows a 1:80 dilution reacted with the \"H\" antigen of *Salmonella Typhi*. The \"H\" antigen is a flagellar antigen (part of the bacterial flagella, or tail).  Again, this titer is elevated compared to the reference range (1:20).\n",
            "\n",
            "* **S. Paratyphi \"AH\" 1:20:** This result is within the reference range, suggesting no significant exposure to *Salmonella Paratyphi* A.\n",
            "\n",
            "* **S. Paratyphi \"BH\" 1:20:** This result is within the reference range, suggesting no significant exposure to *Salmonella Paratyphi* B.\n",
            "\n",
            "**II. DENGUE SEROLOGY (Microbiology and Serology):** This test screens for dengue fever, a viral infection spread by mosquitoes.\n",
            "\n",
            "* **Dengue NS1 Antigen:** Negative.  NS1 is a non-structural protein produced by the dengue virus.  A negative result means the antigen wasn't detected.\n",
            "\n",
            "* **Dengue IgG:** Negative. IgG antibodies are produced later in a dengue infection and indicate past exposure.  A negative result suggests no past dengue infection.\n",
            "\n",
            "* **Dengue IgM:** Negative. IgM antibodies are produced early in a dengue infection. A negative result suggests no current dengue infection.\n",
            "\n",
            "**III. ERYTHROCYTE SEDIMENTATION RATE (ESR) (Hematology and Clinical Pathology):** This test measures how quickly red blood cells settle in a tube over time. An elevated ESR can indicate inflammation or infection somewhere in the body.\n",
            "\n",
            "* **ESR 1st Hour 26 mm/hr:** Elevated compared to the reference range (0-8 mm/hr).\n",
            "* **ESR 2nd Hour 52 mm/hr:**  Further elevated.\n",
            "\n",
            "\n",
            "**IV. RAPID MALARIA TEST (Hematology and Clinical Pathology):** This is a quick test to detect malaria parasites in the blood.\n",
            "\n",
            "* **Rapid Malaria Test P.V:** Negative (Plasmodium vivax)\n",
            "* **Rapid Malaria Test P.F:** Negative (Plasmodium falciparum)  These are two common species of malaria parasites.\n",
            "\n",
            "\n",
            "**V. COMPLETE BLOOD PICTURE (Hematology and Clinical Pathology):** This panel assesses various components of the blood.\n",
            "\n",
            "* **Hemoglobin (Hb):** 13.6 gms% (Within the normal range 13-17). This measures the oxygen-carrying capacity of red blood cells.\n",
            "* **Red Blood Cells (RBC):** 4.3 mill/cumm (Slightly below the normal range 4.5-5.5).\n",
            "* **White Blood Cells (WBC):** 7,200 cells/cumm (Within the normal range 4000-10000).  These fight infection.\n",
            "* **Platelet Count:** 2.0 lakhs/cumm (Within the normal range 1.5-4.5). These are important for blood clotting.\n",
            "* **Packed Cell Volume (PCV):** 40.5% (Within the normal range 40-50).  The proportion of red blood cells in the blood.\n",
            "* **Differential Count:** This breaks down the types of white blood cells. All values are within normal limits.\n",
            "* **Peripheral Blood Smear:** The microscopic examination of blood is described as normal.\n",
            "\n",
            "\n",
            "**VI. HbA1c (Hematology and Clinical Pathology):** This test measures average blood glucose levels over the past 2-3 months and is used to monitor diabetes.\n",
            "\n",
            "* **HbA1c 5.4%:** This is within the normal range for non-diabetic individuals (4-6%).\n",
            "\n",
            "\n",
            "**VII. SERUM CREATININE (Biochemistry):** This test measures creatinine, a waste product of muscle metabolism, in the blood.  Elevated levels can indicate kidney problems.\n",
            "\n",
            "* **Serum Creatinine 0.8 mg/dl:** Within the normal range (0.6-1.25 mg/dl).\n",
            "\n",
            "\n",
            "**VIII. RANDOM BLOOD GLUCOSE (Biochemistry):** This measures blood glucose at a random time.\n",
            "\n",
            "* **Random Blood Glucose:**  The value is missing from the provided text.\n",
            "\n",
            "\n",
            "**IX. LIVER FUNCTION TEST (LFT) (Biochemistry):** This panel assesses liver health. All results are within the normal range.\n",
            "\n",
            "* **Serum Bilirubin (Total, Direct, Indirect):** All within normal limits. Bilirubin is a breakdown product of hemoglobin.\n",
            "* **Serum Alkaline Phosphatase:** Within normal limits.  An enzyme found in the liver and bone.\n",
            "* **SGOT (AST):**  Within normal limits.  Aspartate aminotransferase, an enzyme found in the liver and heart.\n",
            "* **SGPT (ALT):** Within normal limits. Alanine aminotransferase, an enzyme found primarily in the liver.\n",
            "* **Total Protein:** Within normal limits.\n",
            "* **Albumin:** Within normal limits. A protein produced by the liver.\n",
            "* **Globulin:**  A protein in the blood, the value is given but not the reference range.\n",
            "* **A/G Ratio:** 1.2 (Albumin/Globulin ratio). This is within the normal range.\n",
            "\n",
            "\n",
            "**X. SERUM ELECTROLYTES (Biochemistry):**  These tests measure the levels of electrolytes (minerals) in the blood.\n",
            "\n",
            "* **Serum Sodium:** 122 mmol/l (Below the normal range 135-146 mmol/l).  Hyponatremia (low sodium).\n",
            "* **Serum Potassium:** 3.5 mmol/l (Within the normal range 3.5-5.5 mmol/l).\n",
            "* **Serum Chloride:** 97 mmol/l (Slightly below the normal range 98-107 mmol/l).\n",
            "\n",
            "\n",
            "**In summary:**  Mr. Kishan Goud's results show significantly elevated antibodies to *Salmonella Typhi*, suggesting a past or current typhoid infection. He also has an elevated ESR, indicating inflammation. His sodium level is slightly low.  The other tests were within normal ranges.  **It is crucial to note that I am an AI and cannot give medical advice.  This interpretation is for informational purposes only, and a doctor should interpret these results in the context of Mr. Goud's clinical presentation and history.**  He should follow up with his physician Dr. Krishna Prasad for diagnosis and treatment.\n",
            "\n"
          ]
        }
      ]
    },
    {
      "cell_type": "code",
      "source": [
        "def ask_gemini_abt_report(text, question):\n",
        "  model = genai.GenerativeModel(\"gemini-1.5-flash\")\n",
        "  prompt = f\"The report is:\\n\\n{text}\\n\\n answer the following question :\\n{question}\"\n",
        "  response = model.generate_content(prompt)\n",
        "  return response.text\n",
        "question = \"What is the patient's diagnosis?\"\n",
        "answer = ask_gemini_abt_report(extracted_text,question)\n",
        "print(\"Answer:\\n\",answer)"
      ],
      "metadata": {
        "colab": {
          "base_uri": "https://localhost:8080/",
          "height": 89
        },
        "id": "2ngnJl1tqNx9",
        "outputId": "a4dade54-bc7d-49ea-996d-396319e48457"
      },
      "execution_count": 13,
      "outputs": [
        {
          "output_type": "stream",
          "name": "stdout",
          "text": [
            "Answer:\n",
            " The provided lab report does not offer a diagnosis.  It shows the results of various tests, some of which show values outside the normal range (e.g., elevated ESR), but these results alone are insufficient to make a diagnosis.  A physician would interpret these results in the context of the patient's symptoms, medical history, and physical examination to arrive at a diagnosis.\n",
            "\n"
          ]
        }
      ]
    },
    {
      "cell_type": "code",
      "source": [],
      "metadata": {
        "id": "y1XuLMrLri4s"
      },
      "execution_count": null,
      "outputs": []
    }
  ]
}