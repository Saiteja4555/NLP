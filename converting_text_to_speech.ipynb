{
 "cells": [
  {
   "cell_type": "code",
   "execution_count": 1,
   "id": "d515c7f8",
   "metadata": {},
   "outputs": [
    {
     "name": "stdout",
     "output_type": "stream",
     "text": [
      "Defaulting to user installation because normal site-packages is not writeable\n",
      "Requirement already satisfied: gTTS in c:\\users\\91810\\appdata\\roaming\\python\\python311\\site-packages (2.5.4)\n",
      "Requirement already satisfied: requests<3,>=2.27 in c:\\programdata\\anaconda3\\lib\\site-packages (from gTTS) (2.31.0)\n",
      "Requirement already satisfied: click<8.2,>=7.1 in c:\\programdata\\anaconda3\\lib\\site-packages (from gTTS) (8.0.4)\n",
      "Requirement already satisfied: colorama in c:\\programdata\\anaconda3\\lib\\site-packages (from click<8.2,>=7.1->gTTS) (0.4.6)\n",
      "Requirement already satisfied: charset-normalizer<4,>=2 in c:\\programdata\\anaconda3\\lib\\site-packages (from requests<3,>=2.27->gTTS) (2.0.4)\n",
      "Requirement already satisfied: idna<4,>=2.5 in c:\\programdata\\anaconda3\\lib\\site-packages (from requests<3,>=2.27->gTTS) (3.4)\n",
      "Requirement already satisfied: urllib3<3,>=1.21.1 in c:\\programdata\\anaconda3\\lib\\site-packages (from requests<3,>=2.27->gTTS) (1.26.16)\n",
      "Requirement already satisfied: certifi>=2017.4.17 in c:\\programdata\\anaconda3\\lib\\site-packages (from requests<3,>=2.27->gTTS) (2023.11.17)\n"
     ]
    },
    {
     "name": "stderr",
     "output_type": "stream",
     "text": [
      "DEPRECATION: Loading egg at c:\\programdata\\anaconda3\\lib\\site-packages\\vboxapi-1.0-py3.11.egg is deprecated. pip 23.3 will enforce this behaviour change. A possible replacement is to use pip for package installation..\n"
     ]
    }
   ],
   "source": [
    "!pip install gTTS"
   ]
  },
  {
   "cell_type": "code",
   "execution_count": 2,
   "id": "28226e6a",
   "metadata": {},
   "outputs": [],
   "source": [
    "from gtts import gTTS"
   ]
  },
  {
   "cell_type": "code",
   "execution_count": 3,
   "id": "b74e33f2",
   "metadata": {},
   "outputs": [],
   "source": [
    "#chooses the language, English('en')\n",
    "convert = gTTS(text='I like this NLP. How about dude!', lang=\"en\", slow=False)\n",
    "# Saving the converted audio in a mp3 file named\n",
    "convert.save(\"audio.mp3\")"
   ]
  },
  {
   "cell_type": "code",
   "execution_count": 4,
   "id": "770b12ff",
   "metadata": {},
   "outputs": [
    {
     "name": "stdout",
     "output_type": "stream",
     "text": [
      "Defaulting to user installation because normal site-packages is not writeable\n",
      "Requirement already satisfied: pyttsx3 in c:\\users\\91810\\appdata\\roaming\\python\\python311\\site-packages (2.98)\n",
      "Requirement already satisfied: comtypes in c:\\users\\91810\\appdata\\roaming\\python\\python311\\site-packages (from pyttsx3) (1.4.10)\n",
      "Requirement already satisfied: pypiwin32 in c:\\users\\91810\\appdata\\roaming\\python\\python311\\site-packages (from pyttsx3) (223)\n",
      "Requirement already satisfied: pywin32 in c:\\programdata\\anaconda3\\lib\\site-packages (from pyttsx3) (305.1)\n"
     ]
    },
    {
     "name": "stderr",
     "output_type": "stream",
     "text": [
      "DEPRECATION: Loading egg at c:\\programdata\\anaconda3\\lib\\site-packages\\vboxapi-1.0-py3.11.egg is deprecated. pip 23.3 will enforce this behaviour change. A possible replacement is to use pip for package installation..\n"
     ]
    }
   ],
   "source": [
    "!pip install pyttsx3"
   ]
  },
  {
   "cell_type": "code",
   "execution_count": 5,
   "id": "7f3abc3e",
   "metadata": {},
   "outputs": [],
   "source": [
    "import pyttsx3\n",
    "engine = pyttsx3.init() \n",
    "engine.say(\"Hi, I am Sai teja\") \n",
    "engine.runAndWait()"
   ]
  },
  {
   "cell_type": "code",
   "execution_count": 6,
   "id": "f5c372d1",
   "metadata": {},
   "outputs": [],
   "source": [
    "text=['This is introduction to NLP','It is likely to be useful, to people ',\\\n",
    "      'Machine learning is the new electrcity','There would be less hype around AI and more action going forward',\\\n",
    "      'python is the best tool!','R is good langauage',\\\n",
    "      'I want more books like this']"
   ]
  },
  {
   "cell_type": "code",
   "execution_count": 7,
   "id": "13a2e845",
   "metadata": {},
   "outputs": [],
   "source": [
    "engine = pyttsx3.init() \n",
    "engine.say(text) \n",
    "engine.runAndWait()"
   ]
  },
  {
   "cell_type": "code",
   "execution_count": 8,
   "id": "3529f81c",
   "metadata": {},
   "outputs": [
    {
     "name": "stdout",
     "output_type": "stream",
     "text": [
      "200\n",
      "1.0\n"
     ]
    }
   ],
   "source": [
    "import pyttsx3\n",
    "engine = pyttsx3.init() # object creation\n",
    "\n",
    "\"\"\" RATE\"\"\"\n",
    "\n",
    "rate = engine.getProperty('rate')   # getting details of current speaking rate\n",
    "print (rate)                        #printing current voice rate\n",
    "engine.setProperty('rate', 150)     # setting up new voice rate\n",
    "\n",
    "\"\"\"VOLUME\"\"\"\n",
    "\n",
    "volume = engine.getProperty('volume')   #getting to know current volume level (min=0 and max=1)\n",
    "print (volume)                          #printing current volume level\n",
    "engine.setProperty('volume',1.0)    # setting up volume level  between 0 and 1\n",
    "\n",
    "\"\"\"VOICE\"\"\"\n",
    "\n",
    "voices = engine.getProperty('voices')       #getting details of current voice\n",
    "#engine.setProperty('voice', voices[0].id)  #changing index, changes voices. o for male\n",
    "engine.setProperty('voice', voices[1].id)   #changing index, changes voices. 1 for female\n",
    "engine.say(\"Hello World!\")\n",
    "engine.say('My current speaking rate is ' + str(rate))\n",
    "engine.say('My current speaking volume is ' + str(volume))\n",
    "engine.runAndWait()"
   ]
  },
  {
   "cell_type": "code",
   "execution_count": 9,
   "id": "3db51a84",
   "metadata": {},
   "outputs": [
    {
     "name": "stdout",
     "output_type": "stream",
     "text": [
      "Defaulting to user installation because normal site-packages is not writeable\n",
      "Collecting goslate\n",
      "  Using cached goslate-1.5.4.tar.gz (14 kB)\n",
      "  Preparing metadata (setup.py): started\n",
      "  Preparing metadata (setup.py): finished with status 'done'\n",
      "Collecting futures (from goslate)\n",
      "  Using cached futures-3.0.5.tar.gz (25 kB)\n",
      "  Preparing metadata (setup.py): started\n",
      "  Preparing metadata (setup.py): finished with status 'error'\n"
     ]
    },
    {
     "name": "stderr",
     "output_type": "stream",
     "text": [
      "DEPRECATION: Loading egg at c:\\programdata\\anaconda3\\lib\\site-packages\\vboxapi-1.0-py3.11.egg is deprecated. pip 23.3 will enforce this behaviour change. A possible replacement is to use pip for package installation..\n",
      "  error: subprocess-exited-with-error\n",
      "  \n",
      "  python setup.py egg_info did not run successfully.\n",
      "  exit code: 1\n",
      "  \n",
      "  [30 lines of output]\n",
      "  Traceback (most recent call last):\n",
      "    File \"<string>\", line 2, in <module>\n",
      "    File \"<pip-setuptools-caller>\", line 14, in <module>\n",
      "    File \"C:\\ProgramData\\anaconda3\\Lib\\site-packages\\setuptools\\__init__.py\", line 270, in <module>\n",
      "      monkey.patch_all()\n",
      "    File \"C:\\ProgramData\\anaconda3\\Lib\\site-packages\\setuptools\\monkey.py\", line 97, in patch_all\n",
      "      patch_for_msvc_specialized_compiler()\n",
      "    File \"C:\\ProgramData\\anaconda3\\Lib\\site-packages\\setuptools\\monkey.py\", line 157, in patch_for_msvc_specialized_compiler\n",
      "      patch_func(*msvc14('_get_vc_env'))\n",
      "                  ^^^^^^^^^^^^^^^^^^^^^\n",
      "    File \"C:\\ProgramData\\anaconda3\\Lib\\site-packages\\setuptools\\monkey.py\", line 147, in patch_params\n",
      "      mod = import_module(mod_name)\n",
      "            ^^^^^^^^^^^^^^^^^^^^^^^\n",
      "    File \"C:\\ProgramData\\anaconda3\\Lib\\importlib\\__init__.py\", line 126, in import_module\n",
      "      return _bootstrap._gcd_import(name[level:], package, level)\n",
      "             ^^^^^^^^^^^^^^^^^^^^^^^^^^^^^^^^^^^^^^^^^^^^^^^^^^^^\n",
      "    File \"C:\\ProgramData\\anaconda3\\Lib\\site-packages\\setuptools\\_distutils\\_msvccompiler.py\", line 20, in <module>\n",
      "      import unittest.mock as mock\n",
      "    File \"C:\\ProgramData\\anaconda3\\Lib\\unittest\\mock.py\", line 26, in <module>\n",
      "      import asyncio\n",
      "    File \"C:\\ProgramData\\anaconda3\\Lib\\asyncio\\__init__.py\", line 8, in <module>\n",
      "      from .base_events import *\n",
      "    File \"C:\\ProgramData\\anaconda3\\Lib\\asyncio\\base_events.py\", line 18, in <module>\n",
      "      import concurrent.futures\n",
      "    File \"C:\\Users\\91810\\AppData\\Local\\Temp\\pip-install-zoq0yd4b\\futures_74677869a8e14010812973d7f17c127c\\concurrent\\futures\\__init__.py\", line 8, in <module>\n",
      "      from concurrent.futures._base import (FIRST_COMPLETED,\n",
      "    File \"C:\\Users\\91810\\AppData\\Local\\Temp\\pip-install-zoq0yd4b\\futures_74677869a8e14010812973d7f17c127c\\concurrent\\futures\\_base.py\", line 357\n",
      "      raise type(self._exception), self._exception, self._traceback\n",
      "                                 ^\n",
      "  SyntaxError: invalid syntax\n",
      "  [end of output]\n",
      "  \n",
      "  note: This error originates from a subprocess, and is likely not a problem with pip.\n",
      "error: metadata-generation-failed\n",
      "\n",
      "Encountered error while generating package metadata.\n",
      "\n",
      "See above for output.\n",
      "\n",
      "note: This is an issue with the package mentioned above, not pip.\n",
      "hint: See above for details.\n"
     ]
    }
   ],
   "source": [
    "!pip install goslate"
   ]
  },
  {
   "cell_type": "code",
   "execution_count": 10,
   "id": "c434394a",
   "metadata": {},
   "outputs": [],
   "source": [
    "import goslate"
   ]
  },
  {
   "cell_type": "code",
   "execution_count": 11,
   "id": "5ea766f4",
   "metadata": {},
   "outputs": [
    {
     "name": "stdout",
     "output_type": "stream",
     "text": [
      "<generator object Goslate.translate.<locals>.<genexpr> at 0x000002CB5B2ACD60>\n"
     ]
    }
   ],
   "source": [
    "gs = goslate.Goslate()\n",
    "translatedText = gs.translate(text,'en')\n",
    "print(translatedText)"
   ]
  },
  {
   "cell_type": "code",
   "execution_count": 12,
   "id": "82cfbf9f",
   "metadata": {},
   "outputs": [
    {
     "name": "stdout",
     "output_type": "stream",
     "text": [
      "Defaulting to user installation because normal site-packages is not writeable\n",
      "Requirement already satisfied: translate in c:\\users\\91810\\appdata\\roaming\\python\\python311\\site-packages (3.6.1)\n",
      "Requirement already satisfied: click in c:\\programdata\\anaconda3\\lib\\site-packages (from translate) (8.0.4)\n",
      "Requirement already satisfied: lxml in c:\\programdata\\anaconda3\\lib\\site-packages (from translate) (4.9.3)\n",
      "Requirement already satisfied: requests in c:\\programdata\\anaconda3\\lib\\site-packages (from translate) (2.31.0)\n",
      "Requirement already satisfied: libretranslatepy==2.1.1 in c:\\users\\91810\\appdata\\roaming\\python\\python311\\site-packages (from translate) (2.1.1)\n",
      "Requirement already satisfied: colorama in c:\\programdata\\anaconda3\\lib\\site-packages (from click->translate) (0.4.6)\n",
      "Requirement already satisfied: charset-normalizer<4,>=2 in c:\\programdata\\anaconda3\\lib\\site-packages (from requests->translate) (2.0.4)\n",
      "Requirement already satisfied: idna<4,>=2.5 in c:\\programdata\\anaconda3\\lib\\site-packages (from requests->translate) (3.4)\n",
      "Requirement already satisfied: urllib3<3,>=1.21.1 in c:\\programdata\\anaconda3\\lib\\site-packages (from requests->translate) (1.26.16)\n",
      "Requirement already satisfied: certifi>=2017.4.17 in c:\\programdata\\anaconda3\\lib\\site-packages (from requests->translate) (2023.11.17)\n"
     ]
    },
    {
     "name": "stderr",
     "output_type": "stream",
     "text": [
      "DEPRECATION: Loading egg at c:\\programdata\\anaconda3\\lib\\site-packages\\vboxapi-1.0-py3.11.egg is deprecated. pip 23.3 will enforce this behaviour change. A possible replacement is to use pip for package installation..\n"
     ]
    }
   ],
   "source": [
    "!pip install translate"
   ]
  },
  {
   "cell_type": "code",
   "execution_count": 13,
   "id": "15bd7715",
   "metadata": {},
   "outputs": [
    {
     "data": {
      "text/plain": [
       "'ఎలా ఉనారు ?'"
      ]
     },
     "execution_count": 13,
     "metadata": {},
     "output_type": "execute_result"
    }
   ],
   "source": [
    "# # traslating text to telugu\n",
    "from translate import Translator\n",
    "translator= Translator(to_lang=\"te\")\n",
    "translation = translator.translate(\"How are you?\")\n",
    "translation"
   ]
  },
  {
   "cell_type": "code",
   "execution_count": 14,
   "id": "c7196b20",
   "metadata": {},
   "outputs": [
    {
     "data": {
      "text/plain": [
       "'कशी आहेस?'"
      ]
     },
     "execution_count": 14,
     "metadata": {},
     "output_type": "execute_result"
    }
   ],
   "source": [
    "# # traslating text to marathi\n",
    "\n",
    "from translate import Translator\n",
    "translator= Translator(to_lang=\"mr\")\n",
    "translation = translator.translate(\"How are you?\")\n",
    "translation"
   ]
  },
  {
   "cell_type": "code",
   "execution_count": 15,
   "id": "fc568411",
   "metadata": {},
   "outputs": [
    {
     "data": {
      "text/plain": [
       "'உங்கள் மகள் எப்படி இருக்கிறார்?'"
      ]
     },
     "execution_count": 15,
     "metadata": {},
     "output_type": "execute_result"
    }
   ],
   "source": [
    "# # traslating text to tamil\n",
    "\n",
    "from translate import Translator\n",
    "translator= Translator(to_lang=\"ta\")\n",
    "translation = translator.translate(\"How are you?\")\n",
    "translation"
   ]
  },
  {
   "cell_type": "code",
   "execution_count": 16,
   "id": "8c31a666",
   "metadata": {},
   "outputs": [
    {
     "name": "stdout",
     "output_type": "stream",
     "text": [
      "Defaulting to user installation because normal site-packages is not writeable\n",
      "Requirement already satisfied: python-vlc in c:\\users\\91810\\appdata\\roaming\\python\\python311\\site-packages (3.0.21203)\n"
     ]
    },
    {
     "name": "stderr",
     "output_type": "stream",
     "text": [
      "DEPRECATION: Loading egg at c:\\programdata\\anaconda3\\lib\\site-packages\\vboxapi-1.0-py3.11.egg is deprecated. pip 23.3 will enforce this behaviour change. A possible replacement is to use pip for package installation..\n"
     ]
    }
   ],
   "source": [
    "!pip install python-vlc"
   ]
  },
  {
   "cell_type": "code",
   "execution_count": 24,
   "id": "a8235caf",
   "metadata": {},
   "outputs": [
    {
     "data": {
      "text/plain": [
       "0"
      ]
     },
     "execution_count": 24,
     "metadata": {},
     "output_type": "execute_result"
    }
   ],
   "source": [
    "import vlc\n",
    "p = vlc.MediaPlayer(\"audio.mp3\")\n",
    "p.play()"
   ]
  },
  {
   "cell_type": "code",
   "execution_count": 25,
   "id": "ea438b63",
   "metadata": {},
   "outputs": [
    {
     "name": "stdout",
     "output_type": "stream",
     "text": [
      "Defaulting to user installation because normal site-packages is not writeable\n",
      "Requirement already satisfied: playsound in c:\\users\\91810\\appdata\\roaming\\python\\python311\\site-packages (1.3.0)\n"
     ]
    },
    {
     "name": "stderr",
     "output_type": "stream",
     "text": [
      "DEPRECATION: Loading egg at c:\\programdata\\anaconda3\\lib\\site-packages\\vboxapi-1.0-py3.11.egg is deprecated. pip 23.3 will enforce this behaviour change. A possible replacement is to use pip for package installation..\n"
     ]
    }
   ],
   "source": [
    "!pip install playsound"
   ]
  },
  {
   "cell_type": "code",
   "execution_count": 2,
   "id": "6015d94f",
   "metadata": {},
   "outputs": [
    {
     "name": "stdout",
     "output_type": "stream",
     "text": [
      "playing sound using playsound\n"
     ]
    }
   ],
   "source": [
    "import playsound as pl\n",
    "pl.playsound('audio.mp3')\n",
    "print('playing sound using playsound')"
   ]
  },
  {
   "cell_type": "code",
   "execution_count": 3,
   "id": "036f42b8",
   "metadata": {},
   "outputs": [
    {
     "name": "stdout",
     "output_type": "stream",
     "text": [
      "Defaulting to user installation because normal site-packages is not writeable\n",
      "Collecting SpeechRecognition\n",
      "  Obtaining dependency information for SpeechRecognition from https://files.pythonhosted.org/packages/09/47/5dcfcd8a2c8c2981986fc196e98fc57bc1ecb5233b2d54dac0c0d448b019/SpeechRecognition-3.14.1-py3-none-any.whl.metadata\n",
      "  Downloading SpeechRecognition-3.14.1-py3-none-any.whl.metadata (31 kB)\n",
      "Requirement already satisfied: typing-extensions in c:\\users\\91810\\appdata\\roaming\\python\\python311\\site-packages (from SpeechRecognition) (4.12.2)\n",
      "Downloading SpeechRecognition-3.14.1-py3-none-any.whl (32.9 MB)\n",
      "   ---------------------------------------- 0.0/32.9 MB ? eta -:--:--\n",
      "   ---------------------------------------- 0.0/32.9 MB ? eta -:--:--\n",
      "   ---------------------------------------- 0.0/32.9 MB 653.6 kB/s eta 0:00:51\n",
      "   ---------------------------------------- 0.1/32.9 MB 1.4 MB/s eta 0:00:23\n",
      "    --------------------------------------- 0.4/32.9 MB 3.3 MB/s eta 0:00:10\n",
      "    --------------------------------------- 0.5/32.9 MB 3.0 MB/s eta 0:00:11\n",
      "    --------------------------------------- 0.7/32.9 MB 3.2 MB/s eta 0:00:10\n",
      "   - -------------------------------------- 0.9/32.9 MB 3.7 MB/s eta 0:00:09\n",
      "   - -------------------------------------- 0.9/32.9 MB 3.7 MB/s eta 0:00:09\n",
      "   - -------------------------------------- 1.0/32.9 MB 3.5 MB/s eta 0:00:10\n",
      "   - -------------------------------------- 1.0/32.9 MB 3.5 MB/s eta 0:00:10\n",
      "   - -------------------------------------- 1.0/32.9 MB 3.5 MB/s eta 0:00:10\n",
      "   - -------------------------------------- 1.0/32.9 MB 3.5 MB/s eta 0:00:10\n",
      "   - -------------------------------------- 1.2/32.9 MB 2.3 MB/s eta 0:00:14\n",
      "   - -------------------------------------- 1.2/32.9 MB 2.3 MB/s eta 0:00:14\n",
      "   - -------------------------------------- 1.2/32.9 MB 2.1 MB/s eta 0:00:16\n",
      "   - -------------------------------------- 1.3/32.9 MB 2.0 MB/s eta 0:00:16\n",
      "   - -------------------------------------- 1.4/32.9 MB 2.1 MB/s eta 0:00:16\n",
      "   - -------------------------------------- 1.5/32.9 MB 2.1 MB/s eta 0:00:15\n",
      "   -- ------------------------------------- 1.7/32.9 MB 2.2 MB/s eta 0:00:15\n",
      "   -- ------------------------------------- 1.8/32.9 MB 2.2 MB/s eta 0:00:15\n",
      "   -- ------------------------------------- 1.9/32.9 MB 2.2 MB/s eta 0:00:15\n",
      "   -- ------------------------------------- 2.0/32.9 MB 2.2 MB/s eta 0:00:14\n",
      "   -- ------------------------------------- 2.1/32.9 MB 2.2 MB/s eta 0:00:14\n",
      "   -- ------------------------------------- 2.2/32.9 MB 2.2 MB/s eta 0:00:14\n",
      "   -- ------------------------------------- 2.3/32.9 MB 2.3 MB/s eta 0:00:14\n",
      "   -- ------------------------------------- 2.5/32.9 MB 2.3 MB/s eta 0:00:14\n",
      "   --- ------------------------------------ 2.6/32.9 MB 2.3 MB/s eta 0:00:14\n",
      "   --- ------------------------------------ 2.7/32.9 MB 2.3 MB/s eta 0:00:13\n",
      "   --- ------------------------------------ 2.8/32.9 MB 2.4 MB/s eta 0:00:13\n",
      "   --- ------------------------------------ 2.9/32.9 MB 2.4 MB/s eta 0:00:13\n",
      "   --- ------------------------------------ 3.1/32.9 MB 2.4 MB/s eta 0:00:13\n",
      "   --- ------------------------------------ 3.3/32.9 MB 2.4 MB/s eta 0:00:13\n",
      "   ---- ----------------------------------- 3.4/32.9 MB 2.5 MB/s eta 0:00:12\n",
      "   ---- ----------------------------------- 3.5/32.9 MB 2.5 MB/s eta 0:00:12\n",
      "   ---- ----------------------------------- 3.7/32.9 MB 2.5 MB/s eta 0:00:12\n",
      "   ---- ----------------------------------- 3.8/32.9 MB 2.6 MB/s eta 0:00:12\n",
      "   ---- ----------------------------------- 4.0/32.9 MB 2.6 MB/s eta 0:00:12\n",
      "   ----- ---------------------------------- 4.1/32.9 MB 2.6 MB/s eta 0:00:12\n",
      "   ----- ---------------------------------- 4.3/32.9 MB 2.6 MB/s eta 0:00:11\n",
      "   ----- ---------------------------------- 4.5/32.9 MB 2.7 MB/s eta 0:00:11\n",
      "   ----- ---------------------------------- 4.6/32.9 MB 2.7 MB/s eta 0:00:11\n",
      "   ----- ---------------------------------- 4.8/32.9 MB 2.7 MB/s eta 0:00:11\n",
      "   ------ --------------------------------- 5.0/32.9 MB 2.8 MB/s eta 0:00:11\n",
      "   ------ --------------------------------- 5.2/32.9 MB 2.8 MB/s eta 0:00:10\n",
      "   ------ --------------------------------- 5.3/32.9 MB 2.8 MB/s eta 0:00:10\n",
      "   ------ --------------------------------- 5.4/32.9 MB 2.8 MB/s eta 0:00:10\n",
      "   ------ --------------------------------- 5.6/32.9 MB 2.8 MB/s eta 0:00:10\n",
      "   ------- -------------------------------- 5.8/32.9 MB 2.8 MB/s eta 0:00:10\n",
      "   ------- -------------------------------- 5.9/32.9 MB 2.8 MB/s eta 0:00:10\n",
      "   ------- -------------------------------- 6.3/32.9 MB 2.9 MB/s eta 0:00:10\n",
      "   ------- -------------------------------- 6.4/32.9 MB 2.9 MB/s eta 0:00:10\n",
      "   -------- ------------------------------- 6.6/32.9 MB 2.9 MB/s eta 0:00:10\n",
      "   -------- ------------------------------- 6.8/32.9 MB 2.9 MB/s eta 0:00:10\n",
      "   -------- ------------------------------- 6.9/32.9 MB 2.9 MB/s eta 0:00:09\n",
      "   -------- ------------------------------- 7.1/32.9 MB 2.9 MB/s eta 0:00:09\n",
      "   -------- ------------------------------- 7.2/32.9 MB 3.0 MB/s eta 0:00:09\n",
      "   --------- ------------------------------ 7.4/32.9 MB 3.0 MB/s eta 0:00:09\n",
      "   --------- ------------------------------ 7.5/32.9 MB 3.0 MB/s eta 0:00:09\n",
      "   --------- ------------------------------ 7.7/32.9 MB 3.0 MB/s eta 0:00:09\n",
      "   --------- ------------------------------ 7.9/32.9 MB 3.0 MB/s eta 0:00:09\n",
      "   --------- ------------------------------ 8.1/32.9 MB 3.0 MB/s eta 0:00:09\n",
      "   ---------- ----------------------------- 8.2/32.9 MB 3.1 MB/s eta 0:00:09\n",
      "   ---------- ----------------------------- 8.4/32.9 MB 3.1 MB/s eta 0:00:08\n",
      "   ---------- ----------------------------- 8.6/32.9 MB 3.1 MB/s eta 0:00:08\n",
      "   ---------- ----------------------------- 8.8/32.9 MB 3.1 MB/s eta 0:00:08\n",
      "   ---------- ----------------------------- 8.8/32.9 MB 3.1 MB/s eta 0:00:08\n",
      "   ---------- ----------------------------- 9.0/32.9 MB 3.1 MB/s eta 0:00:08\n",
      "   ----------- ---------------------------- 9.1/32.9 MB 3.1 MB/s eta 0:00:08\n",
      "   ----------- ---------------------------- 9.3/32.9 MB 3.1 MB/s eta 0:00:08\n",
      "   ----------- ---------------------------- 9.3/32.9 MB 3.1 MB/s eta 0:00:08\n",
      "   ----------- ---------------------------- 9.5/32.9 MB 3.1 MB/s eta 0:00:08\n",
      "   ----------- ---------------------------- 9.6/32.9 MB 3.1 MB/s eta 0:00:08\n",
      "   ----------- ---------------------------- 9.7/32.9 MB 3.1 MB/s eta 0:00:08\n",
      "   ------------ --------------------------- 9.9/32.9 MB 3.1 MB/s eta 0:00:08\n",
      "   ------------ --------------------------- 10.0/32.9 MB 3.1 MB/s eta 0:00:08\n",
      "   ------------ --------------------------- 10.2/32.9 MB 3.1 MB/s eta 0:00:08\n",
      "   ------------ --------------------------- 10.3/32.9 MB 3.2 MB/s eta 0:00:08\n",
      "   ------------ --------------------------- 10.4/32.9 MB 3.1 MB/s eta 0:00:08\n",
      "   ------------ --------------------------- 10.6/32.9 MB 3.1 MB/s eta 0:00:08\n",
      "   ------------- -------------------------- 10.8/32.9 MB 3.1 MB/s eta 0:00:08\n",
      "   ------------- -------------------------- 10.9/32.9 MB 3.1 MB/s eta 0:00:07\n",
      "   ------------- -------------------------- 11.1/32.9 MB 3.1 MB/s eta 0:00:08\n",
      "   ------------- -------------------------- 11.3/32.9 MB 3.1 MB/s eta 0:00:07\n",
      "   ------------- -------------------------- 11.4/32.9 MB 3.4 MB/s eta 0:00:07\n",
      "   -------------- ------------------------- 11.6/32.9 MB 3.4 MB/s eta 0:00:07\n",
      "   -------------- ------------------------- 11.7/32.9 MB 3.4 MB/s eta 0:00:07\n",
      "   -------------- ------------------------- 11.8/32.9 MB 3.4 MB/s eta 0:00:07\n",
      "   -------------- ------------------------- 12.0/32.9 MB 3.4 MB/s eta 0:00:07\n",
      "   -------------- ------------------------- 12.2/32.9 MB 3.5 MB/s eta 0:00:06\n",
      "   --------------- ------------------------ 12.4/32.9 MB 3.5 MB/s eta 0:00:06\n",
      "   --------------- ------------------------ 12.5/32.9 MB 3.5 MB/s eta 0:00:06\n",
      "   --------------- ------------------------ 12.7/32.9 MB 3.5 MB/s eta 0:00:06\n",
      "   --------------- ------------------------ 12.8/32.9 MB 3.6 MB/s eta 0:00:06\n",
      "   --------------- ------------------------ 12.9/32.9 MB 3.5 MB/s eta 0:00:06\n",
      "   --------------- ------------------------ 13.0/32.9 MB 3.5 MB/s eta 0:00:06\n",
      "   ---------------- ----------------------- 13.1/32.9 MB 3.5 MB/s eta 0:00:06\n",
      "   ---------------- ----------------------- 13.3/32.9 MB 3.5 MB/s eta 0:00:06\n",
      "   ---------------- ----------------------- 13.4/32.9 MB 3.5 MB/s eta 0:00:06\n",
      "   ---------------- ----------------------- 13.6/32.9 MB 3.5 MB/s eta 0:00:06\n",
      "   ---------------- ----------------------- 13.7/32.9 MB 3.5 MB/s eta 0:00:06\n",
      "   ---------------- ----------------------- 13.9/32.9 MB 3.5 MB/s eta 0:00:06\n",
      "   ----------------- ---------------------- 14.0/32.9 MB 3.5 MB/s eta 0:00:06\n",
      "   ----------------- ---------------------- 14.2/32.9 MB 3.5 MB/s eta 0:00:06\n",
      "   ----------------- ---------------------- 14.3/32.9 MB 3.5 MB/s eta 0:00:06\n",
      "   ----------------- ---------------------- 14.4/32.9 MB 3.5 MB/s eta 0:00:06\n",
      "   ----------------- ---------------------- 14.5/32.9 MB 3.4 MB/s eta 0:00:06\n",
      "   ----------------- ---------------------- 14.6/32.9 MB 3.4 MB/s eta 0:00:06\n",
      "   ----------------- ---------------------- 14.7/32.9 MB 3.4 MB/s eta 0:00:06\n",
      "   ----------------- ---------------------- 14.7/32.9 MB 3.3 MB/s eta 0:00:06\n",
      "   ----------------- ---------------------- 14.8/32.9 MB 3.3 MB/s eta 0:00:06\n",
      "   ------------------ --------------------- 14.8/32.9 MB 3.3 MB/s eta 0:00:06\n",
      "   ------------------ --------------------- 14.9/32.9 MB 3.2 MB/s eta 0:00:06\n",
      "   ------------------ --------------------- 15.0/32.9 MB 3.2 MB/s eta 0:00:06\n",
      "   ------------------ --------------------- 15.1/32.9 MB 3.2 MB/s eta 0:00:06\n",
      "   ------------------ --------------------- 15.2/32.9 MB 3.2 MB/s eta 0:00:06\n",
      "   ------------------ --------------------- 15.3/32.9 MB 3.2 MB/s eta 0:00:06\n",
      "   ------------------ --------------------- 15.4/32.9 MB 3.1 MB/s eta 0:00:06\n",
      "   ------------------ --------------------- 15.5/32.9 MB 3.1 MB/s eta 0:00:06\n",
      "   ------------------ --------------------- 15.6/32.9 MB 3.1 MB/s eta 0:00:06\n",
      "   ------------------- -------------------- 15.7/32.9 MB 3.1 MB/s eta 0:00:06\n",
      "   ------------------- -------------------- 15.8/32.9 MB 3.1 MB/s eta 0:00:06\n",
      "   ------------------- -------------------- 15.8/32.9 MB 3.1 MB/s eta 0:00:06\n",
      "   ------------------- -------------------- 15.9/32.9 MB 3.1 MB/s eta 0:00:06\n",
      "   ------------------- -------------------- 16.0/32.9 MB 3.1 MB/s eta 0:00:06\n",
      "   ------------------- -------------------- 16.2/32.9 MB 3.0 MB/s eta 0:00:06\n",
      "   ------------------- -------------------- 16.3/32.9 MB 3.0 MB/s eta 0:00:06\n",
      "   ------------------- -------------------- 16.4/32.9 MB 3.0 MB/s eta 0:00:06\n",
      "   -------------------- ------------------- 16.5/32.9 MB 3.0 MB/s eta 0:00:06\n",
      "   -------------------- ------------------- 16.6/32.9 MB 3.0 MB/s eta 0:00:06\n",
      "   -------------------- ------------------- 16.7/32.9 MB 3.0 MB/s eta 0:00:06\n",
      "   -------------------- ------------------- 16.7/32.9 MB 3.0 MB/s eta 0:00:06\n",
      "   -------------------- ------------------- 16.9/32.9 MB 2.9 MB/s eta 0:00:06\n",
      "   -------------------- ------------------- 17.0/32.9 MB 2.9 MB/s eta 0:00:06\n",
      "   -------------------- ------------------- 17.1/32.9 MB 2.9 MB/s eta 0:00:06\n",
      "   -------------------- ------------------- 17.2/32.9 MB 2.9 MB/s eta 0:00:06\n",
      "   --------------------- ------------------ 17.3/32.9 MB 2.9 MB/s eta 0:00:06\n",
      "   --------------------- ------------------ 17.5/32.9 MB 2.9 MB/s eta 0:00:06\n",
      "   --------------------- ------------------ 17.6/32.9 MB 2.9 MB/s eta 0:00:06\n",
      "   --------------------- ------------------ 17.8/32.9 MB 2.9 MB/s eta 0:00:06\n",
      "   --------------------- ------------------ 18.0/32.9 MB 2.9 MB/s eta 0:00:06\n",
      "   ---------------------- ----------------- 18.1/32.9 MB 2.9 MB/s eta 0:00:06\n",
      "   ---------------------- ----------------- 18.3/32.9 MB 2.9 MB/s eta 0:00:06\n",
      "   ---------------------- ----------------- 18.4/32.9 MB 2.9 MB/s eta 0:00:06\n",
      "   ---------------------- ----------------- 18.4/32.9 MB 2.9 MB/s eta 0:00:06\n",
      "   ---------------------- ----------------- 18.4/32.9 MB 2.9 MB/s eta 0:00:06\n",
      "   ---------------------- ----------------- 18.4/32.9 MB 2.9 MB/s eta 0:00:06\n",
      "   ---------------------- ----------------- 18.6/32.9 MB 2.8 MB/s eta 0:00:06\n",
      "   ---------------------- ----------------- 18.6/32.9 MB 2.7 MB/s eta 0:00:06\n",
      "   ---------------------- ----------------- 18.7/32.9 MB 2.7 MB/s eta 0:00:06\n",
      "   ---------------------- ----------------- 18.8/32.9 MB 2.7 MB/s eta 0:00:06\n",
      "   ---------------------- ----------------- 18.9/32.9 MB 2.7 MB/s eta 0:00:06\n",
      "   ----------------------- ---------------- 19.0/32.9 MB 2.7 MB/s eta 0:00:06\n",
      "   ----------------------- ---------------- 19.1/32.9 MB 2.7 MB/s eta 0:00:06\n",
      "   ----------------------- ---------------- 19.2/32.9 MB 2.7 MB/s eta 0:00:06\n",
      "   ----------------------- ---------------- 19.3/32.9 MB 2.7 MB/s eta 0:00:06\n",
      "   ----------------------- ---------------- 19.4/32.9 MB 2.7 MB/s eta 0:00:06\n",
      "   ----------------------- ---------------- 19.5/32.9 MB 2.7 MB/s eta 0:00:06\n",
      "   ----------------------- ---------------- 19.6/32.9 MB 2.6 MB/s eta 0:00:06\n",
      "   ------------------------ --------------- 19.7/32.9 MB 2.6 MB/s eta 0:00:05\n",
      "   ------------------------ --------------- 19.9/32.9 MB 2.6 MB/s eta 0:00:05\n",
      "   ------------------------ --------------- 20.0/32.9 MB 2.6 MB/s eta 0:00:05\n",
      "   ------------------------ --------------- 20.2/32.9 MB 2.6 MB/s eta 0:00:05\n",
      "   ------------------------ --------------- 20.3/32.9 MB 2.6 MB/s eta 0:00:05\n",
      "   ------------------------ --------------- 20.4/32.9 MB 2.6 MB/s eta 0:00:05\n",
      "   ------------------------- -------------- 20.6/32.9 MB 2.6 MB/s eta 0:00:05\n",
      "   ------------------------- -------------- 20.7/32.9 MB 2.6 MB/s eta 0:00:05\n",
      "   ------------------------- -------------- 20.8/32.9 MB 2.6 MB/s eta 0:00:05\n",
      "   ------------------------- -------------- 21.0/32.9 MB 2.6 MB/s eta 0:00:05\n",
      "   ------------------------- -------------- 21.1/32.9 MB 2.6 MB/s eta 0:00:05\n",
      "   ------------------------- -------------- 21.3/32.9 MB 2.6 MB/s eta 0:00:05\n",
      "   -------------------------- ------------- 21.5/32.9 MB 2.6 MB/s eta 0:00:05\n",
      "   -------------------------- ------------- 21.6/32.9 MB 2.6 MB/s eta 0:00:05\n",
      "   -------------------------- ------------- 21.8/32.9 MB 2.6 MB/s eta 0:00:05\n",
      "   -------------------------- ------------- 21.9/32.9 MB 2.6 MB/s eta 0:00:05\n",
      "   -------------------------- ------------- 22.0/32.9 MB 2.6 MB/s eta 0:00:05\n",
      "   --------------------------- ------------ 22.2/32.9 MB 2.6 MB/s eta 0:00:05\n",
      "   --------------------------- ------------ 22.4/32.9 MB 2.6 MB/s eta 0:00:04\n",
      "   --------------------------- ------------ 22.5/32.9 MB 2.6 MB/s eta 0:00:04\n",
      "   --------------------------- ------------ 22.7/32.9 MB 2.6 MB/s eta 0:00:04\n",
      "   --------------------------- ------------ 22.9/32.9 MB 2.6 MB/s eta 0:00:04\n",
      "   ---------------------------- ----------- 23.0/32.9 MB 2.6 MB/s eta 0:00:04\n",
      "   ---------------------------- ----------- 23.2/32.9 MB 2.6 MB/s eta 0:00:04\n",
      "   ---------------------------- ----------- 23.4/32.9 MB 2.6 MB/s eta 0:00:04\n",
      "   ---------------------------- ----------- 23.5/32.9 MB 2.6 MB/s eta 0:00:04\n",
      "   ---------------------------- ----------- 23.7/32.9 MB 2.7 MB/s eta 0:00:04\n",
      "   ---------------------------- ----------- 23.7/32.9 MB 2.6 MB/s eta 0:00:04\n",
      "   ----------------------------- ---------- 23.9/32.9 MB 2.7 MB/s eta 0:00:04\n",
      "   ----------------------------- ---------- 24.1/32.9 MB 2.7 MB/s eta 0:00:04\n",
      "   ----------------------------- ---------- 24.1/32.9 MB 2.7 MB/s eta 0:00:04\n",
      "   ----------------------------- ---------- 24.2/32.9 MB 2.6 MB/s eta 0:00:04\n",
      "   ----------------------------- ---------- 24.2/32.9 MB 2.6 MB/s eta 0:00:04\n",
      "   ----------------------------- ---------- 24.4/32.9 MB 2.6 MB/s eta 0:00:04\n",
      "   ----------------------------- ---------- 24.4/32.9 MB 2.6 MB/s eta 0:00:04\n",
      "   ----------------------------- ---------- 24.5/32.9 MB 2.6 MB/s eta 0:00:04\n",
      "   ----------------------------- ---------- 24.6/32.9 MB 2.6 MB/s eta 0:00:04\n",
      "   ------------------------------ --------- 24.7/32.9 MB 2.6 MB/s eta 0:00:04\n",
      "   ------------------------------ --------- 24.9/32.9 MB 2.6 MB/s eta 0:00:04\n",
      "   ------------------------------ --------- 25.2/32.9 MB 2.7 MB/s eta 0:00:03\n",
      "   ------------------------------ --------- 25.4/32.9 MB 2.7 MB/s eta 0:00:03\n",
      "   ------------------------------- -------- 25.5/32.9 MB 2.7 MB/s eta 0:00:03\n",
      "   ------------------------------- -------- 25.7/32.9 MB 2.8 MB/s eta 0:00:03\n",
      "   ------------------------------- -------- 25.8/32.9 MB 2.7 MB/s eta 0:00:03\n",
      "   ------------------------------- -------- 25.9/32.9 MB 2.8 MB/s eta 0:00:03\n",
      "   ------------------------------- -------- 26.0/32.9 MB 2.8 MB/s eta 0:00:03\n",
      "   ------------------------------- -------- 26.1/32.9 MB 2.7 MB/s eta 0:00:03\n",
      "   ------------------------------- -------- 26.2/32.9 MB 2.8 MB/s eta 0:00:03\n",
      "   -------------------------------- ------- 26.3/32.9 MB 2.8 MB/s eta 0:00:03\n",
      "   -------------------------------- ------- 26.4/32.9 MB 2.8 MB/s eta 0:00:03\n",
      "   -------------------------------- ------- 26.6/32.9 MB 2.8 MB/s eta 0:00:03\n",
      "   -------------------------------- ------- 26.7/32.9 MB 2.8 MB/s eta 0:00:03\n",
      "   -------------------------------- ------- 26.9/32.9 MB 2.8 MB/s eta 0:00:03\n",
      "   --------------------------------- ------ 27.1/32.9 MB 2.8 MB/s eta 0:00:03\n",
      "   --------------------------------- ------ 27.3/32.9 MB 2.9 MB/s eta 0:00:02\n",
      "   --------------------------------- ------ 27.5/32.9 MB 2.9 MB/s eta 0:00:02\n",
      "   --------------------------------- ------ 27.7/32.9 MB 2.9 MB/s eta 0:00:02\n",
      "   --------------------------------- ------ 27.8/32.9 MB 2.9 MB/s eta 0:00:02\n",
      "   ---------------------------------- ----- 28.0/32.9 MB 2.9 MB/s eta 0:00:02\n",
      "   ---------------------------------- ----- 28.2/32.9 MB 2.9 MB/s eta 0:00:02\n",
      "   ---------------------------------- ----- 28.4/32.9 MB 2.9 MB/s eta 0:00:02\n",
      "   ---------------------------------- ----- 28.6/32.9 MB 2.9 MB/s eta 0:00:02\n",
      "   ----------------------------------- ---- 28.8/32.9 MB 3.1 MB/s eta 0:00:02\n",
      "   ----------------------------------- ---- 29.0/32.9 MB 3.2 MB/s eta 0:00:02\n",
      "   ----------------------------------- ---- 29.2/32.9 MB 3.2 MB/s eta 0:00:02\n",
      "   ----------------------------------- ---- 29.4/32.9 MB 3.2 MB/s eta 0:00:02\n",
      "   ----------------------------------- ---- 29.6/32.9 MB 3.3 MB/s eta 0:00:01\n",
      "   ------------------------------------ --- 29.8/32.9 MB 3.4 MB/s eta 0:00:01\n",
      "   ------------------------------------ --- 29.9/32.9 MB 3.4 MB/s eta 0:00:01\n",
      "   ------------------------------------ --- 30.1/32.9 MB 3.4 MB/s eta 0:00:01\n",
      "   ------------------------------------ --- 30.4/32.9 MB 3.4 MB/s eta 0:00:01\n",
      "   ------------------------------------- -- 30.5/32.9 MB 3.4 MB/s eta 0:00:01\n",
      "   ------------------------------------- -- 30.7/32.9 MB 3.4 MB/s eta 0:00:01\n",
      "   ------------------------------------- -- 30.9/32.9 MB 3.5 MB/s eta 0:00:01\n",
      "   ------------------------------------- -- 31.1/32.9 MB 3.5 MB/s eta 0:00:01\n",
      "   -------------------------------------- - 31.2/32.9 MB 3.5 MB/s eta 0:00:01\n",
      "   -------------------------------------- - 31.4/32.9 MB 3.5 MB/s eta 0:00:01\n",
      "   -------------------------------------- - 31.7/32.9 MB 3.5 MB/s eta 0:00:01\n",
      "   -------------------------------------- - 31.9/32.9 MB 3.6 MB/s eta 0:00:01\n",
      "   ---------------------------------------  32.2/32.9 MB 3.6 MB/s eta 0:00:01\n",
      "   ---------------------------------------  32.5/32.9 MB 3.7 MB/s eta 0:00:01\n",
      "   ---------------------------------------  32.8/32.9 MB 3.7 MB/s eta 0:00:01\n",
      "   ---------------------------------------  32.8/32.9 MB 3.7 MB/s eta 0:00:01\n",
      "   ---------------------------------------  32.8/32.9 MB 3.7 MB/s eta 0:00:01\n",
      "   ---------------------------------------  32.8/32.9 MB 3.7 MB/s eta 0:00:01\n",
      "   ---------------------------------------  32.8/32.9 MB 3.7 MB/s eta 0:00:01\n",
      "   ---------------------------------------  32.8/32.9 MB 3.7 MB/s eta 0:00:01\n",
      "   ---------------------------------------- 32.9/32.9 MB 3.2 MB/s eta 0:00:00\n",
      "Installing collected packages: SpeechRecognition\n",
      "Successfully installed SpeechRecognition-3.14.1\n"
     ]
    },
    {
     "name": "stderr",
     "output_type": "stream",
     "text": [
      "DEPRECATION: Loading egg at c:\\programdata\\anaconda3\\lib\\site-packages\\vboxapi-1.0-py3.11.egg is deprecated. pip 23.3 will enforce this behaviour change. A possible replacement is to use pip for package installation..\n"
     ]
    }
   ],
   "source": [
    "!pip install SpeechRecognition\n",
    "\n",
    "\n",
    "\n",
    "\n"
   ]
  },
  {
   "cell_type": "code",
   "execution_count": 4,
   "id": "684c3b7c",
   "metadata": {},
   "outputs": [
    {
     "name": "stdout",
     "output_type": "stream",
     "text": [
      "Defaulting to user installation because normal site-packages is not writeable\n",
      "Collecting PyAudio\n",
      "  Obtaining dependency information for PyAudio from https://files.pythonhosted.org/packages/82/d8/f043c854aad450a76e476b0cf9cda1956419e1dacf1062eb9df3c0055abe/PyAudio-0.2.14-cp311-cp311-win_amd64.whl.metadata\n",
      "  Downloading PyAudio-0.2.14-cp311-cp311-win_amd64.whl.metadata (2.7 kB)\n",
      "Downloading PyAudio-0.2.14-cp311-cp311-win_amd64.whl (164 kB)\n",
      "   ---------------------------------------- 0.0/164.1 kB ? eta -:--:--\n",
      "   -- ------------------------------------- 10.2/164.1 kB ? eta -:--:--\n",
      "   -- ------------------------------------- 10.2/164.1 kB ? eta -:--:--\n",
      "   ------------------- ------------------- 81.9/164.1 kB 573.4 kB/s eta 0:00:01\n",
      "   --------------------- ----------------- 92.2/164.1 kB 581.0 kB/s eta 0:00:01\n",
      "   --------------------- ----------------- 92.2/164.1 kB 581.0 kB/s eta 0:00:01\n",
      "   --------------------- ----------------- 92.2/164.1 kB 581.0 kB/s eta 0:00:01\n",
      "   -------------------------------------  163.8/164.1 kB 492.3 kB/s eta 0:00:01\n",
      "   -------------------------------------- 164.1/164.1 kB 447.2 kB/s eta 0:00:00\n",
      "Installing collected packages: PyAudio\n",
      "Successfully installed PyAudio-0.2.14\n"
     ]
    },
    {
     "name": "stderr",
     "output_type": "stream",
     "text": [
      "DEPRECATION: Loading egg at c:\\programdata\\anaconda3\\lib\\site-packages\\vboxapi-1.0-py3.11.egg is deprecated. pip 23.3 will enforce this behaviour change. A possible replacement is to use pip for package installation..\n"
     ]
    }
   ],
   "source": [
    "!pip install PyAudio\n",
    "\n",
    "\n",
    "\n",
    "\n"
   ]
  },
  {
   "cell_type": "code",
   "execution_count": 8,
   "id": "b9d0bb70",
   "metadata": {},
   "outputs": [
    {
     "name": "stdout",
     "output_type": "stream",
     "text": [
      "Please say something\n"
     ]
    }
   ],
   "source": [
    "import speech_recognition as sr\n",
    "r=sr.Recognizer()\n",
    "with sr.Microphone() as source:\n",
    "    print(\"Please say something\")\n",
    "    audio = r.listen(source)\n",
    "    #print(\"Time over, thanks\")\n",
    "try:\n",
    "    print(\"I think you said: \"+r.recognize_google(audio));\n",
    "except:\n",
    "    pass\n"
   ]
  },
  {
   "cell_type": "code",
   "execution_count": null,
   "id": "c4927868",
   "metadata": {},
   "outputs": [],
   "source": []
  }
 ],
 "metadata": {
  "kernelspec": {
   "display_name": "Python 3 (ipykernel)",
   "language": "python",
   "name": "python3"
  },
  "language_info": {
   "codemirror_mode": {
    "name": "ipython",
    "version": 3
   },
   "file_extension": ".py",
   "mimetype": "text/x-python",
   "name": "python",
   "nbconvert_exporter": "python",
   "pygments_lexer": "ipython3",
   "version": "3.11.5"
  }
 },
 "nbformat": 4,
 "nbformat_minor": 5
}
