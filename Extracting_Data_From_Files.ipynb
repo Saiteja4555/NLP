{
 "cells": [
  {
   "cell_type": "code",
   "execution_count": 1,
   "id": "10b32002",
   "metadata": {},
   "outputs": [
    {
     "name": "stdout",
     "output_type": "stream",
     "text": [
      "Defaulting to user installation because normal site-packages is not writeable"
     ]
    },
    {
     "name": "stderr",
     "output_type": "stream",
     "text": [
      "DEPRECATION: Loading egg at c:\\programdata\\anaconda3\\lib\\site-packages\\vboxapi-1.0-py3.11.egg is deprecated. pip 23.3 will enforce this behaviour change. A possible replacement is to use pip for package installation..\n"
     ]
    },
    {
     "name": "stdout",
     "output_type": "stream",
     "text": [
      "\n",
      "Collecting python-docx\n",
      "  Obtaining dependency information for python-docx from https://files.pythonhosted.org/packages/3e/3d/330d9efbdb816d3f60bf2ad92f05e1708e4a1b9abe80461ac3444c83f749/python_docx-1.1.2-py3-none-any.whl.metadata\n",
      "  Downloading python_docx-1.1.2-py3-none-any.whl.metadata (2.0 kB)\n",
      "Requirement already satisfied: lxml>=3.1.0 in c:\\programdata\\anaconda3\\lib\\site-packages (from python-docx) (4.9.3)\n",
      "Collecting typing-extensions>=4.9.0 (from python-docx)\n",
      "  Obtaining dependency information for typing-extensions>=4.9.0 from https://files.pythonhosted.org/packages/26/9f/ad63fc0248c5379346306f8668cda6e2e2e9c95e01216d2b8ffd9ff037d0/typing_extensions-4.12.2-py3-none-any.whl.metadata\n",
      "  Downloading typing_extensions-4.12.2-py3-none-any.whl.metadata (3.0 kB)\n",
      "Downloading python_docx-1.1.2-py3-none-any.whl (244 kB)\n",
      "   ---------------------------------------- 0.0/244.3 kB ? eta -:--:--\n",
      "   ---- ---------------------------------- 30.7/244.3 kB 660.6 kB/s eta 0:00:01\n",
      "   --------- ----------------------------- 61.4/244.3 kB 544.7 kB/s eta 0:00:01\n",
      "   ----------------- -------------------- 112.6/244.3 kB 726.2 kB/s eta 0:00:01\n",
      "   -------------------------------------- - 235.5/244.3 kB 1.3 MB/s eta 0:00:01\n",
      "   ---------------------------------------- 244.3/244.3 kB 1.2 MB/s eta 0:00:00\n",
      "Downloading typing_extensions-4.12.2-py3-none-any.whl (37 kB)\n",
      "Installing collected packages: typing-extensions, python-docx\n",
      "Successfully installed python-docx-1.1.2 typing-extensions-4.12.2\n"
     ]
    }
   ],
   "source": [
    "!pip install python-docx"
   ]
  },
  {
   "cell_type": "code",
   "execution_count": 3,
   "id": "433efef2",
   "metadata": {},
   "outputs": [],
   "source": [
    "import docx"
   ]
  },
  {
   "cell_type": "code",
   "execution_count": 6,
   "id": "4d0eb15d",
   "metadata": {},
   "outputs": [],
   "source": [
    "#Creating a word file object\n",
    "doc = open(\"SAI TEJA ANANGI.docx\",\"rb\")\n",
    "#creating word reader object\n",
    "document = docx.Document(doc)"
   ]
  },
  {
   "cell_type": "code",
   "execution_count": 7,
   "id": "576a999b",
   "metadata": {},
   "outputs": [
    {
     "data": {
      "text/plain": [
       "<docx.document.Document at 0x202f5c44dd0>"
      ]
     },
     "execution_count": 7,
     "metadata": {},
     "output_type": "execute_result"
    }
   ],
   "source": [
    "document"
   ]
  },
  {
   "cell_type": "code",
   "execution_count": 9,
   "id": "7b455a11",
   "metadata": {},
   "outputs": [
    {
     "name": "stdout",
     "output_type": "stream",
     "text": [
      "# SAI TEJA ANANGI+91 8106256341  anangisaiteja123@gmail.com  LinkedIn: linkedin.com/in/anangi-sai-teja-9691582a8 | GitHub: github.com/Saiteja4555---## PROFESSIONAL SUMMARYDedicated software developer with hands-on experience in full-stack web development and Java programming. Proven track record of delivering successful projects using React.js, Python, and various web technologies. Strong problem-solving skills demonstrated through competitive programming, having solved 250+ problems on CodeChef.---## EDUCATION**B.Tech** | Malla Reddy University, Hyderabad  Expected Graduation: 2026 | CGPA: 8.7---## TECHNICAL SKILLS**Frontend Development:** HTML, CSS, JavaScript, ReactJS  **Backend Development:** Java, Python, Flask  **Database & Tools:** Firebase, Google Colab  **Core Competencies:** Data Structures, Machine Learning, Problem Solving---## LANGUAGES- Telugu (Native)- English (Professional)- Hindi (Conversational)---## PROFESSIONAL EXPERIENCE### Web Development Intern | SkillVertex*November 2024 - January 2025*- Developed full-stack web applications integrating frontend technologies with server-side scripting and databases- Implemented responsive design principles ensuring cross-platform compatibility- Collaborated with team members to deliver high-quality projects within deadlines- Applied modern web development techniques in real-world applications- Participated in code reviews and technical discussions to enhance project quality### Java Development Intern | WorinWell*August 2024 - September 2024*- Developed Java applications following object-oriented programming principles- Created practical solutions for real-world scenarios using Java- Demonstrated strong analytical and problem-solving abilities- Collaborated with mentors to improve code quality and implementation strategies---## PROJECTS### Personal Portfolio Website- Built a responsive portfolio website using React.js showcasing professional experience and projects- Implemented modern UI/UX principles for enhanced user experience- Integrated contact form functionality and responsive design patterns- Technologies: HTML, CSS, JavaScript, ReactJS### Weather Application- Developed a real-time weather tracking application using OpenWeatherMap API- Implemented city search functionality with detailed weather information display- Created an intuitive user interface for seamless weather data visualization- Technologies: HTML, CSS, JavaScript, REST APIs### To-Do List Application- Built a full-stack task management application using React.js and Firebase- Implemented CRUD operations for task management- Designed real-time data synchronization using Firebase- Technologies: ReactJS, Firebase, JavaScript---## CERTIFICATIONS- Web Development Internship Certificate - SkillVertex (2024)- Industrial Program on Java - WorinWell (2024)- Java Program Certification - Stop.ai (2024)---## ACHIEVEMENTS- Solved 250+ programming problems on CodeChef- Active participant in coding challenges and competitive programmin\n"
     ]
    }
   ],
   "source": [
    "docu = \"\"\n",
    "for para in document.paragraphs:\n",
    "    docu += para.text\n",
    "print(docu)"
   ]
  },
  {
   "cell_type": "code",
   "execution_count": 10,
   "id": "1da88978",
   "metadata": {},
   "outputs": [
    {
     "name": "stdout",
     "output_type": "stream",
     "text": [
      "The content of the paragraph 0 is ：# SAI TEJA ANANGI\n",
      "\n",
      "The content of the paragraph 1 is ：+91 8106256341  \n",
      "\n",
      "The content of the paragraph 2 is ：anangisaiteja123@gmail.com  \n",
      "\n",
      "The content of the paragraph 3 is ：LinkedIn: linkedin.com/in/anangi-sai-teja-9691582a8 | GitHub: github.com/Saiteja4555\n",
      "\n",
      "The content of the paragraph 4 is ：\n",
      "\n",
      "The content of the paragraph 5 is ：---\n",
      "\n",
      "The content of the paragraph 6 is ：\n",
      "\n",
      "The content of the paragraph 7 is ：## PROFESSIONAL SUMMARY\n",
      "\n",
      "The content of the paragraph 8 is ：Dedicated software developer with hands-on experience in full-stack web development and Java programming. Proven track record of delivering successful projects using React.js, Python, and various web technologies. Strong problem-solving skills demonstrated through competitive programming, having solved 250+ problems on CodeChef.\n",
      "\n",
      "The content of the paragraph 9 is ：\n",
      "\n",
      "The content of the paragraph 10 is ：---\n",
      "\n",
      "The content of the paragraph 11 is ：\n",
      "\n",
      "The content of the paragraph 12 is ：## EDUCATION\n",
      "\n",
      "The content of the paragraph 13 is ：**B.Tech** | Malla Reddy University, Hyderabad  \n",
      "\n",
      "The content of the paragraph 14 is ：Expected Graduation: 2026 | CGPA: 8.7\n",
      "\n",
      "The content of the paragraph 15 is ：\n",
      "\n",
      "The content of the paragraph 16 is ：---\n",
      "\n",
      "The content of the paragraph 17 is ：\n",
      "\n",
      "The content of the paragraph 18 is ：## TECHNICAL SKILLS\n",
      "\n",
      "The content of the paragraph 19 is ：**Frontend Development:** HTML, CSS, JavaScript, ReactJS  \n",
      "\n",
      "The content of the paragraph 20 is ：**Backend Development:** Java, Python, Flask  \n",
      "\n",
      "The content of the paragraph 21 is ：**Database & Tools:** Firebase, Google Colab  \n",
      "\n",
      "The content of the paragraph 22 is ：**Core Competencies:** Data Structures, Machine Learning, Problem Solving\n",
      "\n",
      "The content of the paragraph 23 is ：\n",
      "\n",
      "The content of the paragraph 24 is ：---\n",
      "\n",
      "The content of the paragraph 25 is ：\n",
      "\n",
      "The content of the paragraph 26 is ：## LANGUAGES\n",
      "\n",
      "The content of the paragraph 27 is ：- Telugu (Native)\n",
      "\n",
      "The content of the paragraph 28 is ：- English (Professional)\n",
      "\n",
      "The content of the paragraph 29 is ：- Hindi (Conversational)\n",
      "\n",
      "The content of the paragraph 30 is ：\n",
      "\n",
      "The content of the paragraph 31 is ：---\n",
      "\n",
      "The content of the paragraph 32 is ：\n",
      "\n",
      "The content of the paragraph 33 is ：## PROFESSIONAL EXPERIENCE\n",
      "\n",
      "The content of the paragraph 34 is ：\n",
      "\n",
      "The content of the paragraph 35 is ：### Web Development Intern | SkillVertex\n",
      "\n",
      "The content of the paragraph 36 is ：*November 2024 - January 2025*\n",
      "\n",
      "The content of the paragraph 37 is ：- Developed full-stack web applications integrating frontend technologies with server-side scripting and databases\n",
      "\n",
      "The content of the paragraph 38 is ：- Implemented responsive design principles ensuring cross-platform compatibility\n",
      "\n",
      "The content of the paragraph 39 is ：- Collaborated with team members to deliver high-quality projects within deadlines\n",
      "\n",
      "The content of the paragraph 40 is ：- Applied modern web development techniques in real-world applications\n",
      "\n",
      "The content of the paragraph 41 is ：- Participated in code reviews and technical discussions to enhance project quality\n",
      "\n",
      "The content of the paragraph 42 is ：\n",
      "\n",
      "The content of the paragraph 43 is ：### Java Development Intern | WorinWell\n",
      "\n",
      "The content of the paragraph 44 is ：*August 2024 - September 2024*\n",
      "\n",
      "The content of the paragraph 45 is ：- Developed Java applications following object-oriented programming principles\n",
      "\n",
      "The content of the paragraph 46 is ：- Created practical solutions for real-world scenarios using Java\n",
      "\n",
      "The content of the paragraph 47 is ：- Demonstrated strong analytical and problem-solving abilities\n",
      "\n",
      "The content of the paragraph 48 is ：- Collaborated with mentors to improve code quality and implementation strategies\n",
      "\n",
      "The content of the paragraph 49 is ：\n",
      "\n",
      "The content of the paragraph 50 is ：---\n",
      "\n",
      "The content of the paragraph 51 is ：\n",
      "\n",
      "The content of the paragraph 52 is ：## PROJECTS\n",
      "\n",
      "The content of the paragraph 53 is ：\n",
      "\n",
      "The content of the paragraph 54 is ：### Personal Portfolio Website\n",
      "\n",
      "The content of the paragraph 55 is ：- Built a responsive portfolio website using React.js showcasing professional experience and projects\n",
      "\n",
      "The content of the paragraph 56 is ：- Implemented modern UI/UX principles for enhanced user experience\n",
      "\n",
      "The content of the paragraph 57 is ：- Integrated contact form functionality and responsive design patterns\n",
      "\n",
      "The content of the paragraph 58 is ：- Technologies: HTML, CSS, JavaScript, ReactJS\n",
      "\n",
      "The content of the paragraph 59 is ：\n",
      "\n",
      "The content of the paragraph 60 is ：### Weather Application\n",
      "\n",
      "The content of the paragraph 61 is ：- Developed a real-time weather tracking application using OpenWeatherMap API\n",
      "\n",
      "The content of the paragraph 62 is ：- Implemented city search functionality with detailed weather information display\n",
      "\n",
      "The content of the paragraph 63 is ：- Created an intuitive user interface for seamless weather data visualization\n",
      "\n",
      "The content of the paragraph 64 is ：- Technologies: HTML, CSS, JavaScript, REST APIs\n",
      "\n",
      "The content of the paragraph 65 is ：\n",
      "\n",
      "The content of the paragraph 66 is ：### To-Do List Application\n",
      "\n",
      "The content of the paragraph 67 is ：- Built a full-stack task management application using React.js and Firebase\n",
      "\n",
      "The content of the paragraph 68 is ：- Implemented CRUD operations for task management\n",
      "\n",
      "The content of the paragraph 69 is ：- Designed real-time data synchronization using Firebase\n",
      "\n",
      "The content of the paragraph 70 is ：- Technologies: ReactJS, Firebase, JavaScript\n",
      "\n",
      "The content of the paragraph 71 is ：\n",
      "\n",
      "The content of the paragraph 72 is ：---\n",
      "\n",
      "The content of the paragraph 73 is ：\n",
      "\n",
      "The content of the paragraph 74 is ：## CERTIFICATIONS\n",
      "\n",
      "The content of the paragraph 75 is ：- Web Development Internship Certificate - SkillVertex (2024)\n",
      "\n",
      "The content of the paragraph 76 is ：- Industrial Program on Java - WorinWell (2024)\n",
      "\n",
      "The content of the paragraph 77 is ：- Java Program Certification - Stop.ai (2024)\n",
      "\n",
      "The content of the paragraph 78 is ：\n",
      "\n",
      "The content of the paragraph 79 is ：---\n",
      "\n",
      "The content of the paragraph 80 is ：\n",
      "\n",
      "The content of the paragraph 81 is ：## ACHIEVEMENTS\n",
      "\n",
      "The content of the paragraph 82 is ：- Solved 250+ programming problems on CodeChef\n",
      "\n",
      "The content of the paragraph 83 is ：- Active participant in coding challenges and competitive programmin\n",
      "\n",
      "The content of the paragraph 84 is ：\n",
      "\n"
     ]
    }
   ],
   "source": [
    "#  output paragraph number and paragraph content \n",
    "for i in range(len(document.paragraphs)):\n",
    "    print(\"The content of the paragraph \"+ str(i)+\" is ：\" + document.paragraphs[i].text+\"\\n\")"
   ]
  },
  {
   "cell_type": "code",
   "execution_count": 11,
   "id": "a9953545",
   "metadata": {},
   "outputs": [
    {
     "name": "stdout",
     "output_type": "stream",
     "text": [
      "Defaulting to user installation because normal site-packages is not writeable"
     ]
    },
    {
     "name": "stderr",
     "output_type": "stream",
     "text": [
      "DEPRECATION: Loading egg at c:\\programdata\\anaconda3\\lib\\site-packages\\vboxapi-1.0-py3.11.egg is deprecated. pip 23.3 will enforce this behaviour change. A possible replacement is to use pip for package installation..\n"
     ]
    },
    {
     "name": "stdout",
     "output_type": "stream",
     "text": [
      "\n",
      "Collecting bs4\n",
      "  Obtaining dependency information for bs4 from https://files.pythonhosted.org/packages/51/bb/bf7aab772a159614954d84aa832c129624ba6c32faa559dfb200a534e50b/bs4-0.0.2-py2.py3-none-any.whl.metadata\n",
      "  Downloading bs4-0.0.2-py2.py3-none-any.whl.metadata (411 bytes)\n",
      "Requirement already satisfied: beautifulsoup4 in c:\\programdata\\anaconda3\\lib\\site-packages (from bs4) (4.12.2)\n",
      "Requirement already satisfied: soupsieve>1.2 in c:\\programdata\\anaconda3\\lib\\site-packages (from beautifulsoup4->bs4) (2.4)\n",
      "Downloading bs4-0.0.2-py2.py3-none-any.whl (1.2 kB)\n",
      "Installing collected packages: bs4\n",
      "Successfully installed bs4-0.0.2\n"
     ]
    }
   ],
   "source": [
    "!pip install bs4"
   ]
  },
  {
   "cell_type": "code",
   "execution_count": 12,
   "id": "45f9a8d4",
   "metadata": {},
   "outputs": [],
   "source": [
    "import urllib.request as urllib2\n",
    "from bs4 import BeautifulSoup"
   ]
  },
  {
   "cell_type": "code",
   "execution_count": 13,
   "id": "cd21e4ce",
   "metadata": {},
   "outputs": [],
   "source": [
    "response = urllib2.urlopen('https://en.wikipedia.org/wiki/Natural_language_processing')\n",
    "html_doc = response.read()"
   ]
  },
  {
   "cell_type": "code",
   "execution_count": 15,
   "id": "04b21c93",
   "metadata": {},
   "outputs": [
    {
     "name": "stdout",
     "output_type": "stream",
     "text": [
      "<!DOCTYPE html>\n",
      "<html class=\"client-nojs vector-feature-language-in-header-enabled vector-feature-language-in-main-page-header-disabled vector-feature-page-tools-pinned-disabled vector-feature-toc-pinned-clientpref-1 vector-feature-main-menu-pinned-disabled vector-feature-limited-width-clientpref-1 vector-feature-limited-width-content-enabled vector-feature-custom-font-size-clientpref-1 vector-feature-appearance-pinned-clientpref-1 vector-feature-night-mode-enabled skin-theme-clientpref-day vector-sticky-header-enabled vector-toc-available\" dir=\"ltr\" lang=\"en\">\n",
      " <head>\n",
      "  <meta charset=\"utf-8\"/>\n",
      "  <title>\n",
      "   Natural language processing - Wikipedia\n",
      "  </title>\n",
      "  <script>\n",
      "   (function(){var className=\"client-js vector-feature-language-in-header-enabled vector-feature-language-in-main-page-header-disabled vector-feature-page-tools-pinned-disabled vector-feature-toc-pinned-clientpref-1 vector-feature-main-menu-pinned-disabled vector-feature-limited-width-clientpref-1 vector-feature-limited-w\n"
     ]
    }
   ],
   "source": [
    "#Parsing\n",
    "soup = BeautifulSoup(html_doc, 'html.parser')\n",
    "# Formating the parsed html file\n",
    "strhtm = soup.prettify()\n",
    "# Print few lines\n",
    "print (strhtm[:1000])"
   ]
  },
  {
   "cell_type": "code",
   "execution_count": null,
   "id": "36cddd50",
   "metadata": {},
   "outputs": [],
   "source": []
  }
 ],
 "metadata": {
  "kernelspec": {
   "display_name": "Python 3 (ipykernel)",
   "language": "python",
   "name": "python3"
  },
  "language_info": {
   "codemirror_mode": {
    "name": "ipython",
    "version": 3
   },
   "file_extension": ".py",
   "mimetype": "text/x-python",
   "name": "python",
   "nbconvert_exporter": "python",
   "pygments_lexer": "ipython3",
   "version": "3.11.5"
  }
 },
 "nbformat": 4,
 "nbformat_minor": 5
}
